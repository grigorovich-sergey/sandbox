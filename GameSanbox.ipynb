{
 "cells": [
  {
   "cell_type": "code",
   "execution_count": 1,
   "metadata": {},
   "outputs": [
    {
     "name": "stdout",
     "output_type": "stream",
     "text": [
      "pygame 2.1.2 (SDL 2.0.18, Python 3.7.6)\n",
      "Hello from the pygame community. https://www.pygame.org/contribute.html\n"
     ]
    }
   ],
   "source": [
    "import sys\n",
    "import pygame\n",
    "import string\n",
    "from random import sample"
   ]
  },
  {
   "cell_type": "code",
   "execution_count": 2,
   "metadata": {},
   "outputs": [],
   "source": [
    "color_gray = (90, 90, 90)\n",
    "color_lightgray = (240, 240, 240)\n",
    "color_white = (255, 255, 255)\n",
    "color_black = (0, 0, 0)\n",
    "color_blue = (0, 0, 255)\n",
    "color_red = (255, 0, 0)\n",
    "color_green = (0, 255, 0)\n",
    "\n",
    "button_r = 50\n",
    "font_size = 30\n",
    "borders_widht = 3\n",
    "source = list(map(str, range(100)))\n",
    "dimentions = 7\n",
    "sample_range = (1,20)\n",
    "n_ans_buttons = 7"
   ]
  },
  {
   "cell_type": "code",
   "execution_count": 3,
   "metadata": {},
   "outputs": [
    {
     "name": "stdout",
     "output_type": "stream",
     "text": [
      "[(0, 0), (0, 1), (0, 2), (0, 3), (0, 4), (1, 0), (1, 1), (1, 2), (1, 3), (1, 4), (2, 0), (2, 1), (2, 2), (2, 3), (2, 4)]\n"
     ]
    }
   ],
   "source": [
    "print([(i,j) for i in range(3) for j in range(5)])"
   ]
  },
  {
   "cell_type": "code",
   "execution_count": 4,
   "metadata": {},
   "outputs": [],
   "source": [
    "class Game(object):\n",
    "    \n",
    "    def __init__(self, name, dimentions=5, ans_buttons=7, sample_range=(1,20)):\n",
    "        self.name = name\n",
    "        self.dimentions = dimentions\n",
    "        self.ans_buttons = ans_buttons\n",
    "        self.sample_range = sample_range\n",
    "        self.score = 0\n",
    "        self.total_score = 0\n",
    "        \n",
    "    def new_game(self):\n",
    "        self.ingame = True\n",
    "        self.score = 0\n",
    "        self.time = 0\n",
    "        self.quiz_line = 1\n",
    "        self.quiz_hex = 0\n",
    "        seed_line = sample(range(self.sample_range[0], self.sample_range[1]), self.dimentions)\n",
    "        self.puzzle_table = [seed_line]\n",
    "        while len(seed_line) > 1:\n",
    "            seed_line = [i + j for i, j in zip(seed_line, seed_line[1:])]\n",
    "            self.puzzle_table.append(seed_line)\n",
    "        \n",
    " #       lines_to_draw[self.quiz_line].set_color(self.quiz_hex, color_red)\n",
    "        ans_buttons.permutate(self.puzzle_table[self.quiz_line][self.quiz_hex])\n",
    "\n",
    "\n",
    "    def update(self, score):\n",
    "        self.score += score\n",
    "        lines_to_draw[self.quiz_line].set_color(self.quiz_hex, color_lightgray)\n",
    "        lines_to_draw[self.quiz_line].show_button(self.quiz_hex)\n",
    "        if self.quiz_hex >= (len(self.puzzle_table[self.quiz_line]) - 1):\n",
    "            self.quiz_hex = 0\n",
    "            self.quiz_line +=1\n",
    "        else:\n",
    "            self.quiz_hex += 1\n",
    "        if self.quiz_line > (len(self.puzzle_table) - 1):\n",
    "            self.ingame = False\n",
    "        else:\n",
    "            lines_to_draw[self.quiz_line].set_color(self.quiz_hex, color_red)\n",
    "            ans_buttons.permutate(self.puzzle_table[self.quiz_line][self.quiz_hex])"
   ]
  },
  {
   "cell_type": "code",
   "execution_count": 5,
   "metadata": {},
   "outputs": [],
   "source": [
    "class Hextangle(object):\n",
    "    \n",
    "    def __init__(self, x, y, r, color_fill, color_border, color_text, text, shown=False):\n",
    "        self.x = x\n",
    "        self.y = y\n",
    "        self.r = r\n",
    "        self.color_fill = color_fill\n",
    "        self.color_border = color_border\n",
    "        self.text = smallfont.render(text , True , color_text)\n",
    "        self.shown = shown\n",
    "        \n",
    "        self.points = [(x, y+r),\n",
    "                       (x+0.87*r, y+0.5*r),\n",
    "                       (x+0.87*r, y-0.5*r),\n",
    "                       (x, y-r),\n",
    "                       (x-0.87*r, y-0.5*r),\n",
    "                       (x-0.87*r, y+0.5*r)]\n",
    "    \n",
    "    def draw(self):\n",
    "        pygame.draw.polygon(scr, self.color_fill, self.points)\n",
    "        pygame.draw.polygon(scr, self.color_border, self.points, width=borders_widht)\n",
    "        if self.shown:\n",
    "            scr.blit(self.text , (self.x - 15, self.y - font_size/2))\n",
    "    \n",
    "    def show(self):\n",
    "        self.shown = True\n",
    "    \n",
    "    def set_color(self, color):\n",
    "        self.color_fill = color"
   ]
  },
  {
   "cell_type": "code",
   "execution_count": 6,
   "metadata": {},
   "outputs": [],
   "source": [
    "class Hextangle_line(object):\n",
    "    \n",
    "    def __init__(self, screen, n_line, y_line, button_r):\n",
    "        self.n_line = n_line\n",
    "        self.y_line = y_line\n",
    "        self.button_r = button_r\n",
    "        self.screen_width = screen.get_width()\n",
    "        \n",
    "    def create_buttons(self, buttons_text):\n",
    "        self.leftmost_x = (self.screen_width - 1.73*self.button_r*(len(buttons_text)))/2 + 0.87*self.button_r\n",
    "        self.buttons = [Hextangle(self.leftmost_x + i*self.button_r*1.73,\n",
    "                               self.y_line,\n",
    "                               self.button_r,\n",
    "                               color_lightgray,\n",
    "                               color_black,\n",
    "                               color_black,\n",
    "                               t,\n",
    "                               (self.n_line == 0)) \\\n",
    "                        for i, t in enumerate(buttons_text)]\n",
    "    \n",
    "    def draw(self):\n",
    "        for button in self.buttons:\n",
    "            button.draw()\n",
    "    \n",
    "    def show_button(self, n):\n",
    "        self.buttons[n].show()\n",
    "    \n",
    "    def set_color(self, n, color):\n",
    "        self.buttons[n].set_color(color)"
   ]
  },
  {
   "cell_type": "code",
   "execution_count": 7,
   "metadata": {},
   "outputs": [],
   "source": [
    "class Button(object):\n",
    "    \n",
    "    def __init__(self, x, y, height, widht, color_fill, color_border, color_text, text):\n",
    "        self.x = x\n",
    "        self.y = y\n",
    "        self.height = height\n",
    "        self.widht = widht\n",
    "        self.color_fill = color_fill\n",
    "        self.color_border = color_border\n",
    "        self.text = avgfont.render(text , True , color_text)\n",
    "    \n",
    "    def draw(self):\n",
    "        pygame.draw.rect(scr, self.color_fill, (self.x, self.y, self.widht, self.height))\n",
    "        pygame.draw.rect(scr, self.color_border, (self.x, self.y, self.widht, self.height), width=borders_widht)\n",
    "        scr.blit(self.text , (self.x + self.widht/4, self.y + self.height/5))\n",
    "        \n",
    "    def check_pressed(self, x, y):\n",
    "        return (self.x <= x <= (self.x+self.widht)) and (self.y <= y <= (self.y+self.height))"
   ]
  },
  {
   "cell_type": "code",
   "execution_count": 8,
   "metadata": {},
   "outputs": [],
   "source": [
    "class Ans_button_line(object):\n",
    "    \n",
    "    def __init__(self, screen, y, height, widht, n_buttons):\n",
    "        self.n_buttons = n_buttons\n",
    "        self.y = y\n",
    "        self.height = height\n",
    "        self.widht = widht\n",
    "        self.n_buttons = n_buttons       \n",
    "        self.distance = (screen.get_width() - n_buttons*widht)/(n_buttons+1)\n",
    "        \n",
    "    def permutate(self, answer, ans_range=(1,10)):\n",
    "        self.answers = [answer + i for i in sample(list(range(ans_range[0], ans_range[1])) +\\\n",
    "                                                   list(range(-ans_range[1], -ans_range[0])), self.n_buttons-1)]\n",
    "        self.correct_position = sample(range(self.n_buttons), 1)[0]\n",
    "        self.answers.insert(self.correct_position, answer)\n",
    "        self.buttons = [Button(self.distance + i*(self.distance + self.widht),\n",
    "                       self.y,\n",
    "                       self.height,\n",
    "                       self.widht,        \n",
    "                       color_lightgray,\n",
    "                       color_black,\n",
    "                       color_black,\n",
    "                       str(t)) \\\n",
    "                for i, t in enumerate(self.answers)]\n",
    "    \n",
    "    def draw(self):\n",
    "        for button in self.buttons:\n",
    "            button.draw()\n",
    "    \n",
    "    def check_click(self, x, y):\n",
    "        try:\n",
    "            answer = [button.check_pressed(x, y) for button in self.buttons].index(True)\n",
    "            return int(answer == self.correct_position)*2 - 1\n",
    "        except ValueError:\n",
    "            return 0"
   ]
  },
  {
   "cell_type": "code",
   "execution_count": 9,
   "metadata": {},
   "outputs": [],
   "source": [
    "def handle_keyboard_events():\n",
    "    if event.key == pygame.K_ESCAPE:\n",
    "        print(game.score)"
   ]
  },
  {
   "cell_type": "code",
   "execution_count": 10,
   "metadata": {},
   "outputs": [],
   "source": [
    "def handle_mouse_events():\n",
    "    mouse_coord = pygame.mouse.get_pos()\n",
    "    answer = ans_buttons.check_click(mouse_coord[0], mouse_coord[1])\n",
    "    if answer != 0 and game.ingame:\n",
    "        game.update(answer)"
   ]
  },
  {
   "cell_type": "code",
   "execution_count": 16,
   "metadata": {},
   "outputs": [],
   "source": [
    "def drawing():\n",
    "    scr.fill(color_gray)\n",
    "    \n",
    "    scr.blit(avgfont.render(f'Score: {game.score}', True , color_red) , (50, 50))\n",
    "    \n",
    "    for line in lines_to_draw:\n",
    "        line.draw()\n",
    "    \n",
    "    try:\n",
    "        ans_buttons.draw()\n",
    "    except NameError:\n",
    "        pass\n",
    "    \n",
    "    pygame.display.update()\n",
    "    FPS_CLOCK.tick(30)"
   ]
  },
  {
   "cell_type": "code",
   "execution_count": 17,
   "metadata": {},
   "outputs": [
    {
     "ename": "SystemExit",
     "evalue": "",
     "output_type": "error",
     "traceback": [
      "An exception has occurred, use %tb to see the full traceback.\n",
      "\u001b[1;31mSystemExit\u001b[0m\n"
     ]
    }
   ],
   "source": [
    "pygame.init()\n",
    "smallfont = pygame.font.SysFont('Arial', 30)\n",
    "avgfont = pygame.font.SysFont('Arial', 40)\n",
    "\n",
    "scr = pygame.display.set_mode((1200, 1000))\n",
    "FPS_CLOCK = pygame.time.Clock()\n",
    "\n",
    "game = Game(name = 'test', dimentions=7, ans_buttons=7, sample_range=(1,20))\n",
    "ans_buttons = Ans_button_line(scr, 800, 80, 150, game.ans_buttons)    \n",
    "lines_to_draw = [Hextangle_line(scr, line, 700-1.5*button_r*line, button_r) \\\n",
    "                 for line in range(game.dimentions)]\n",
    "\n",
    "game.new_game()\n",
    "\n",
    "for dim, line in zip(game.puzzle_table, lines_to_draw):\n",
    "    line.create_buttons(list(map(str, dim)))\n",
    "\n",
    "\n",
    "    \n",
    "while True:\n",
    "    for event in pygame.event.get():\n",
    "        if event.type == pygame.QUIT:\n",
    "            pygame.quit()\n",
    "            sys.exit()\n",
    "        if event.type == pygame.KEYDOWN:\n",
    "            handle_keyboard_events()\n",
    "        if event.type == pygame.MOUSEBUTTONDOWN:\n",
    "            handle_mouse_events()\n",
    "    drawing()\n"
   ]
  },
  {
   "cell_type": "code",
   "execution_count": null,
   "metadata": {},
   "outputs": [],
   "source": []
  }
 ],
 "metadata": {
  "kernelspec": {
   "display_name": "Python 3",
   "language": "python",
   "name": "python3"
  },
  "language_info": {
   "codemirror_mode": {
    "name": "ipython",
    "version": 3
   },
   "file_extension": ".py",
   "mimetype": "text/x-python",
   "name": "python",
   "nbconvert_exporter": "python",
   "pygments_lexer": "ipython3",
   "version": "3.7.6"
  }
 },
 "nbformat": 4,
 "nbformat_minor": 4
}
